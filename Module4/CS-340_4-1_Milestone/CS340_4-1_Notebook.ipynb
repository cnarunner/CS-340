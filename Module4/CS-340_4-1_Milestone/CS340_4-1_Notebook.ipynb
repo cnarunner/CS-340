{
 "cells": [
  {
   "cell_type": "markdown",
   "id": "0db93b5c-d993-4500-b7c7-69d8c4deb25b",
   "metadata": {},
   "source": [
    "# animalShelter Test\n",
    "## Create a Python testing script in Jupyter Notebooks that imports your CRUD Python module to call and test the create and read instances of CRUD functionality."
   ]
  },
  {
   "cell_type": "code",
   "execution_count": 1,
   "id": "4d6a8fc2-8299-4f1e-8994-fbc440b3a9dd",
   "metadata": {},
   "outputs": [
    {
     "name": "stdout",
     "output_type": "stream",
     "text": [
      "Connection Successful\n"
     ]
    }
   ],
   "source": [
    "from animalShelter import AnimalShelter\n",
    "\n",
    "CRUD = AnimalShelter()\n",
    "\n",
    "\n"
   ]
  },
  {
   "cell_type": "markdown",
   "id": "837e9d93-e304-40ae-a107-7476d49a2bac",
   "metadata": {},
   "source": [
    "One where create() should pass."
   ]
  },
  {
   "cell_type": "code",
   "execution_count": 2,
   "id": "74f07f56-421e-4bcd-bf9d-930c6fe4db38",
   "metadata": {},
   "outputs": [
    {
     "name": "stdout",
     "output_type": "stream",
     "text": [
      "Item created: True\n"
     ]
    }
   ],
   "source": [
    "newAnimalTestData = {\n",
    "    'age_upon_outcome': '10 years',\n",
    "    'animal_id': 'BGJ0715',\n",
    "    'animal_type': 'Dog',\n",
    "    'breed': 'Border Collie',\n",
    "    'color': 'Black and White',\n",
    "    'date_of_birth': '2013-11-19',\n",
    "    'datetime': '2024-02-06 18:21:36',\n",
    "    'name': 'Doug',\n",
    "    'outcome_subtype': 'SCRP',\n",
    "    'outcome_type': 'Adopted',\n",
    "    'sex_upon_outcome': 'Neutered Male',\n",
    "    'location_lat': 30.6525984560228,\n",
    "    'location_long': -97.7419963476444,\n",
    "    'age_upon_outcome_in_weeks': 533\n",
    "}\n",
    "\n",
    "created = CRUD.create(newAnimalTestData)\n",
    "print(f\"Item created: {created}\")"
   ]
  },
  {
   "cell_type": "markdown",
   "id": "17f687f9-9277-475a-896f-d20d1364e24b",
   "metadata": {},
   "source": [
    "One where the read() should pass."
   ]
  },
  {
   "cell_type": "code",
   "execution_count": 5,
   "id": "3ea4ca15-8807-4658-bf8a-a50101750c21",
   "metadata": {},
   "outputs": [
    {
     "name": "stdout",
     "output_type": "stream",
     "text": [
      "{'rec_num': 6966, 'age_upon_outcome': '8 years', 'animal_id': 'A739141', 'animal_type': 'Dog', 'breed': 'Pomeranian Mix', 'color': 'Tan/White', 'date_of_birth': '2008-11-28', 'datetime': '2016-12-02 17:41:00', 'monthyear': '2016-12-02T17:41:00', 'name': 'Doug', 'outcome_subtype': 'Partner', 'outcome_type': 'Transfer', 'sex_upon_outcome': 'Neutered Male', 'location_lat': 30.5256727280042, 'location_long': -97.3983427268139, 'age_upon_outcome_in_weeks': 418.105257936508}\n",
      "{'age_upon_outcome': '10 years', 'animal_id': 'BGJ0715', 'animal_type': 'Dog', 'breed': 'Border Collie', 'color': 'Black and White', 'date_of_birth': '2013-11-19', 'datetime': '2024-02-06 18:21:36', 'name': 'Doug', 'outcome_subtype': 'SCRP', 'outcome_type': 'Adopted', 'sex_upon_outcome': 'Neutered Male', 'location_lat': 30.6525984560228, 'location_long': -97.7419963476444, 'age_upon_outcome_in_weeks': 533}\n",
      "{'age_upon_outcome': '10 years', 'animal_id': 'BGJ0715', 'animal_type': 'Dog', 'breed': 'Border Collie', 'color': 'Black and White', 'date_of_birth': '2013-11-19', 'datetime': '2024-02-06 18:21:36', 'name': 'Doug', 'outcome_subtype': 'SCRP', 'outcome_type': 'Adopted', 'sex_upon_outcome': 'Neutered Male', 'location_lat': 30.6525984560228, 'location_long': -97.7419963476444, 'age_upon_outcome_in_weeks': 533}\n",
      "{'age_upon_outcome': '10 years', 'animal_id': 'BGJ0715', 'animal_type': 'Dog', 'breed': 'Border Collie', 'color': 'Black and White', 'date_of_birth': '2013-11-19', 'datetime': '2024-02-06 18:21:36', 'name': 'Doug', 'outcome_subtype': 'SCRP', 'outcome_type': 'Adopted', 'sex_upon_outcome': 'Neutered Male', 'location_lat': 30.6525984560228, 'location_long': -97.7419963476444, 'age_upon_outcome_in_weeks': 533}\n",
      "{'age_upon_outcome': '10 years', 'animal_id': 'BGJ0715', 'animal_type': 'Dog', 'breed': 'Border Collie', 'color': 'Black and White', 'date_of_birth': '2013-11-19', 'datetime': '2024-02-06 18:21:36', 'name': 'Doug', 'outcome_subtype': 'SCRP', 'outcome_type': 'Adopted', 'sex_upon_outcome': 'Neutered Male', 'location_lat': 30.6525984560228, 'location_long': -97.7419963476444, 'age_upon_outcome_in_weeks': 533}\n",
      "{'age_upon_outcome': '10 years', 'animal_id': 'BGJ0715', 'animal_type': 'Dog', 'breed': 'Border Collie', 'color': 'Black and White', 'date_of_birth': '2013-11-19', 'datetime': '2024-02-06 18:21:36', 'name': 'Doug', 'outcome_subtype': 'SCRP', 'outcome_type': 'Adopted', 'sex_upon_outcome': 'Neutered Male', 'location_lat': 30.6525984560228, 'location_long': -97.7419963476444, 'age_upon_outcome_in_weeks': 533}\n"
     ]
    }
   ],
   "source": [
    "read = CRUD.read({\"name\": \"Doug\"})\n",
    "for animal in read:\n",
    "    print(animal)"
   ]
  },
  {
   "cell_type": "markdown",
   "id": "7b3219fc-f7a8-45ea-9a11-25b95118670b",
   "metadata": {},
   "source": [
    "One where create() should fail."
   ]
  },
  {
   "cell_type": "code",
   "execution_count": 6,
   "id": "59c2a686-c942-4850-a51a-c921cb3bdff6",
   "metadata": {},
   "outputs": [
    {
     "ename": "TypeError",
     "evalue": "document must be an instance of dict, bson.son.SON, bson.raw_bson.RawBSONDocument, or a type that inherits from collections.MutableMapping",
     "output_type": "error",
     "traceback": [
      "\u001b[1;31m---------------------------------------------------------------------------\u001b[0m",
      "\u001b[1;31mTypeError\u001b[0m                                 Traceback (most recent call last)",
      "Cell \u001b[1;32mIn[6], line 3\u001b[0m\n\u001b[0;32m      1\u001b[0m badAnimalTestData \u001b[38;5;241m=\u001b[39m \u001b[38;5;124m\"\u001b[39m\u001b[38;5;124mThis should fail.\u001b[39m\u001b[38;5;124m\"\u001b[39m\n\u001b[1;32m----> 3\u001b[0m created \u001b[38;5;241m=\u001b[39m \u001b[43mCRUD\u001b[49m\u001b[38;5;241;43m.\u001b[39;49m\u001b[43mcreate\u001b[49m\u001b[43m(\u001b[49m\u001b[43mbadAnimalTestData\u001b[49m\u001b[43m)\u001b[49m\n",
      "File \u001b[1;32m~\\OneDrive - SNHU\\(CS-340)\\Module4\\CS340_4-1\\animalShelter.py:40\u001b[0m, in \u001b[0;36mAnimalShelter.create\u001b[1;34m(self, data)\u001b[0m\n\u001b[0;32m     37\u001b[0m \u001b[38;5;250m\u001b[39m\u001b[38;5;124;03m\"\"\"Method to implement the C in CRUD.\"\"\"\u001b[39;00m\n\u001b[0;32m     39\u001b[0m \u001b[38;5;28;01mif\u001b[39;00m data \u001b[38;5;129;01mis\u001b[39;00m \u001b[38;5;129;01mnot\u001b[39;00m \u001b[38;5;28;01mNone\u001b[39;00m:\n\u001b[1;32m---> 40\u001b[0m     inserted \u001b[38;5;241m=\u001b[39m \u001b[38;5;28;43mself\u001b[39;49m\u001b[38;5;241;43m.\u001b[39;49m\u001b[43mdatabase\u001b[49m\u001b[38;5;241;43m.\u001b[39;49m\u001b[43manimals\u001b[49m\u001b[38;5;241;43m.\u001b[39;49m\u001b[43minsert_one\u001b[49m\u001b[43m(\u001b[49m\u001b[43mdata\u001b[49m\u001b[43m)\u001b[49m  \u001b[38;5;66;03m# data should be dictionary\u001b[39;00m\n\u001b[0;32m     42\u001b[0m     \u001b[38;5;66;03m# Checks to make sure it was successful.\u001b[39;00m\n\u001b[0;32m     43\u001b[0m     \u001b[38;5;28;01mif\u001b[39;00m inserted \u001b[38;5;241m!=\u001b[39m \u001b[38;5;241m0\u001b[39m:\n",
      "File \u001b[1;32m~\\AppData\\Local\\Programs\\Python\\Python312\\Lib\\site-packages\\pymongo\\collection.py:663\u001b[0m, in \u001b[0;36mCollection.insert_one\u001b[1;34m(self, document, bypass_document_validation, session, comment)\u001b[0m\n\u001b[0;32m    615\u001b[0m \u001b[38;5;28;01mdef\u001b[39;00m \u001b[38;5;21minsert_one\u001b[39m(\n\u001b[0;32m    616\u001b[0m     \u001b[38;5;28mself\u001b[39m,\n\u001b[0;32m    617\u001b[0m     document: Union[_DocumentType, RawBSONDocument],\n\u001b[1;32m   (...)\u001b[0m\n\u001b[0;32m    620\u001b[0m     comment: Optional[Any] \u001b[38;5;241m=\u001b[39m \u001b[38;5;28;01mNone\u001b[39;00m,\n\u001b[0;32m    621\u001b[0m ) \u001b[38;5;241m-\u001b[39m\u001b[38;5;241m>\u001b[39m InsertOneResult:\n\u001b[0;32m    622\u001b[0m \u001b[38;5;250m    \u001b[39m\u001b[38;5;124;03m\"\"\"Insert a single document.\u001b[39;00m\n\u001b[0;32m    623\u001b[0m \n\u001b[0;32m    624\u001b[0m \u001b[38;5;124;03m      >>> db.test.count_documents({'x': 1})\u001b[39;00m\n\u001b[1;32m   (...)\u001b[0m\n\u001b[0;32m    661\u001b[0m \u001b[38;5;124;03m    .. versionadded:: 3.0\u001b[39;00m\n\u001b[0;32m    662\u001b[0m \u001b[38;5;124;03m    \"\"\"\u001b[39;00m\n\u001b[1;32m--> 663\u001b[0m     \u001b[43mcommon\u001b[49m\u001b[38;5;241;43m.\u001b[39;49m\u001b[43mvalidate_is_document_type\u001b[49m\u001b[43m(\u001b[49m\u001b[38;5;124;43m\"\u001b[39;49m\u001b[38;5;124;43mdocument\u001b[39;49m\u001b[38;5;124;43m\"\u001b[39;49m\u001b[43m,\u001b[49m\u001b[43m \u001b[49m\u001b[43mdocument\u001b[49m\u001b[43m)\u001b[49m\n\u001b[0;32m    664\u001b[0m     \u001b[38;5;28;01mif\u001b[39;00m \u001b[38;5;129;01mnot\u001b[39;00m (\u001b[38;5;28misinstance\u001b[39m(document, RawBSONDocument) \u001b[38;5;129;01mor\u001b[39;00m \u001b[38;5;124m\"\u001b[39m\u001b[38;5;124m_id\u001b[39m\u001b[38;5;124m\"\u001b[39m \u001b[38;5;129;01min\u001b[39;00m document):\n\u001b[0;32m    665\u001b[0m         document[\u001b[38;5;124m\"\u001b[39m\u001b[38;5;124m_id\u001b[39m\u001b[38;5;124m\"\u001b[39m] \u001b[38;5;241m=\u001b[39m ObjectId()  \u001b[38;5;66;03m# type: ignore[index]\u001b[39;00m\n",
      "File \u001b[1;32m~\\AppData\\Local\\Programs\\Python\\Python312\\Lib\\site-packages\\pymongo\\common.py:552\u001b[0m, in \u001b[0;36mvalidate_is_document_type\u001b[1;34m(option, value)\u001b[0m\n\u001b[0;32m    550\u001b[0m \u001b[38;5;250m\u001b[39m\u001b[38;5;124;03m\"\"\"Validate the type of method arguments that expect a MongoDB document.\"\"\"\u001b[39;00m\n\u001b[0;32m    551\u001b[0m \u001b[38;5;28;01mif\u001b[39;00m \u001b[38;5;129;01mnot\u001b[39;00m \u001b[38;5;28misinstance\u001b[39m(value, (abc\u001b[38;5;241m.\u001b[39mMutableMapping, RawBSONDocument)):\n\u001b[1;32m--> 552\u001b[0m     \u001b[38;5;28;01mraise\u001b[39;00m \u001b[38;5;167;01mTypeError\u001b[39;00m(\n\u001b[0;32m    553\u001b[0m         \u001b[38;5;124mf\u001b[39m\u001b[38;5;124m\"\u001b[39m\u001b[38;5;132;01m{\u001b[39;00moption\u001b[38;5;132;01m}\u001b[39;00m\u001b[38;5;124m must be an instance of dict, bson.son.SON, \u001b[39m\u001b[38;5;124m\"\u001b[39m\n\u001b[0;32m    554\u001b[0m         \u001b[38;5;124m\"\u001b[39m\u001b[38;5;124mbson.raw_bson.RawBSONDocument, or \u001b[39m\u001b[38;5;124m\"\u001b[39m\n\u001b[0;32m    555\u001b[0m         \u001b[38;5;124m\"\u001b[39m\u001b[38;5;124ma type that inherits from \u001b[39m\u001b[38;5;124m\"\u001b[39m\n\u001b[0;32m    556\u001b[0m         \u001b[38;5;124m\"\u001b[39m\u001b[38;5;124mcollections.MutableMapping\u001b[39m\u001b[38;5;124m\"\u001b[39m\n\u001b[0;32m    557\u001b[0m     )\n",
      "\u001b[1;31mTypeError\u001b[0m: document must be an instance of dict, bson.son.SON, bson.raw_bson.RawBSONDocument, or a type that inherits from collections.MutableMapping"
     ]
    }
   ],
   "source": [
    "badAnimalTestData = \"This should fail.\"\n",
    "\n",
    "created = CRUD.create(badAnimalTestData)"
   ]
  },
  {
   "cell_type": "markdown",
   "id": "2f173d6a-a826-4241-a481-21c44db5f488",
   "metadata": {},
   "source": [
    "One where read() should fail."
   ]
  },
  {
   "cell_type": "code",
   "execution_count": 11,
   "id": "d82c90ca-b9ee-41f2-955b-580931fde24b",
   "metadata": {},
   "outputs": [
    {
     "ename": "SyntaxError",
     "evalue": "invalid syntax (3540895935.py, line 1)",
     "output_type": "error",
     "traceback": [
      "\u001b[1;36m  Cell \u001b[1;32mIn[11], line 1\u001b[1;36m\u001b[0m\n\u001b[1;33m    read = CRUD.read(\"bad\": \"data\")\u001b[0m\n\u001b[1;37m                          ^\u001b[0m\n\u001b[1;31mSyntaxError\u001b[0m\u001b[1;31m:\u001b[0m invalid syntax\n"
     ]
    }
   ],
   "source": [
    "read = CRUD.read(\"bad\": \"data\")"
   ]
  },
  {
   "cell_type": "code",
   "execution_count": null,
   "id": "5cd2fa4a-f8bf-4981-8a5f-6b8af7a0e1e2",
   "metadata": {},
   "outputs": [],
   "source": []
  }
 ],
 "metadata": {
  "kernelspec": {
   "display_name": "Python 3 (ipykernel)",
   "language": "python",
   "name": "python3"
  },
  "language_info": {
   "codemirror_mode": {
    "name": "ipython",
    "version": 3
   },
   "file_extension": ".py",
   "mimetype": "text/x-python",
   "name": "python",
   "nbconvert_exporter": "python",
   "pygments_lexer": "ipython3",
   "version": "3.12.1"
  }
 },
 "nbformat": 4,
 "nbformat_minor": 5
}
