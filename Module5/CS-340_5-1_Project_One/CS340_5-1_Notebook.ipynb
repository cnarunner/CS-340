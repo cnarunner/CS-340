{
 "cells": [
  {
   "cell_type": "markdown",
   "id": "0db93b5c-d993-4500-b7c7-69d8c4deb25b",
   "metadata": {},
   "source": [
    "# animalShelter Test\n",
    "## Create a Python testing script in Jupyter Notebooks that imports your CRUD Python module to call and test the create and read instances of CRUD functionality."
   ]
  },
  {
   "cell_type": "code",
   "execution_count": 1,
   "id": "4d6a8fc2-8299-4f1e-8994-fbc440b3a9dd",
   "metadata": {},
   "outputs": [
    {
     "name": "stdout",
     "output_type": "stream",
     "text": [
      "Connection Successful\n"
     ]
    }
   ],
   "source": [
    "from animalShelter import AnimalShelter\n",
    "import datetime\n",
    "CRUD = AnimalShelter()"
   ]
  },
  {
   "cell_type": "markdown",
   "id": "837e9d93-e304-40ae-a107-7476d49a2bac",
   "metadata": {},
   "source": [
    "One where create() should pass:"
   ]
  },
  {
   "cell_type": "code",
   "execution_count": 2,
   "id": "74f07f56-421e-4bcd-bf9d-930c6fe4db38",
   "metadata": {},
   "outputs": [
    {
     "name": "stdout",
     "output_type": "stream",
     "text": [
      "\n",
      "TEST :: create() :: SHOULD EVALUATE TO TRUE\n",
      "Item created: True\n"
     ]
    }
   ],
   "source": [
    "print(\"\\nTEST :: create() :: SHOULD EVALUATE TO TRUE\")\n",
    "date = datetime.datetime.now()\n",
    "newAnimalTestData = {\n",
    "    'age_upon_outcome': '10 years',\n",
    "    'animal_id': 'BGJ0715',\n",
    "    'animal_type': 'Dog',\n",
    "    'breed': 'Border Collie',\n",
    "    'color': 'Black and White',\n",
    "    'date_of_birth': '2013-11-19',\n",
    "    'datetime': f\"{date.year}-{date.month}-{date.day} {date.hour}:{date.minute}:{date.second}\",\n",
    "    'name': 'Doug',\n",
    "    'outcome_subtype': 'SCRP',\n",
    "    'outcome_type': 'Transfer',\n",
    "    'sex_upon_outcome': 'Neutered Male',\n",
    "    'location_lat': 30.6525984560228,\n",
    "    'location_long': -97.7419963476444,\n",
    "    'age_upon_outcome_in_weeks': 533\n",
    "}\n",
    "\n",
    "created = CRUD.create(\n",
    "    newAnimalTestData)\n",
    "print(f\"Item created: {created}\")"
   ]
  },
  {
   "cell_type": "markdown",
   "id": "17f687f9-9277-475a-896f-d20d1364e24b",
   "metadata": {},
   "source": [
    "One where read() should pass:"
   ]
  },
  {
   "cell_type": "code",
   "execution_count": 3,
   "id": "3ea4ca15-8807-4658-bf8a-a50101750c21",
   "metadata": {},
   "outputs": [
    {
     "name": "stdout",
     "output_type": "stream",
     "text": [
      "\n",
      "TEST :: read() :: SHOULD EVALUATE TO 1\n",
      "{'age_upon_outcome': '10 years', 'animal_id': 'BGJ0715', 'animal_type': 'Dog', 'breed': 'Border Collie', 'color': 'Black and White', 'date_of_birth': '2013-11-19', 'datetime': '2024-2-7 17:13:8', 'name': 'Doug', 'outcome_subtype': 'SCRP', 'outcome_type': 'Transfer', 'sex_upon_outcome': 'Neutered Male', 'location_lat': 30.6525984560228, 'location_long': -97.7419963476444, 'age_upon_outcome_in_weeks': 533}\n",
      "There are 1 document(s) that fit the query.\n"
     ]
    }
   ],
   "source": [
    "print(\"\\nTEST :: read() :: SHOULD EVALUATE TO 1\")\n",
    "\n",
    "read_count = CRUD.read(\n",
    "    {\"animal_id\": \"BGJ0715\"})\n",
    "\n",
    "print(f\"There are {read_count} document(s) that fit the query.\")"
   ]
  },
  {
   "cell_type": "markdown",
   "id": "a0a67518-b4d1-419a-8c8a-64ee0a78c140",
   "metadata": {},
   "source": [
    "One where update() should pass:"
   ]
  },
  {
   "cell_type": "code",
   "execution_count": 4,
   "id": "651bf233-09a4-464f-adf9-8f8e8cf5b88f",
   "metadata": {},
   "outputs": [
    {
     "name": "stdout",
     "output_type": "stream",
     "text": [
      "\n",
      "TEST :: update() :: SHOULD EVALUATE TO 1\n",
      "{'age_upon_outcome': '10 years', 'animal_id': 'BGJ0715', 'animal_type': 'Dog', 'breed': 'Border Collie', 'color': 'Black and White', 'date_of_birth': '2013-11-19', 'datetime': '2024-2-7 17:13:8', 'name': 'Doug', 'outcome_subtype': 'SCRP', 'outcome_type': 'Adopted', 'sex_upon_outcome': 'Neutered Male', 'location_lat': 30.6525984560228, 'location_long': -97.7419963476444, 'age_upon_outcome_in_weeks': 533}\n",
      "1\n",
      "There was 1 document(s) changed.\n"
     ]
    }
   ],
   "source": [
    "print(\"\\nTEST :: update() :: SHOULD EVALUATE TO 1\")\n",
    "\n",
    "updated_count = CRUD.update(\n",
    "    {\"animal_id\": \"BGJ0715\"},\n",
    "    {\"outcome_type\": \"Adopted\"})\n",
    "\n",
    "print(CRUD.read({\"animal_id\": \"BGJ0715\"}))\n",
    "print(f\"There was {updated_count} document(s) changed.\")"
   ]
  },
  {
   "cell_type": "markdown",
   "id": "a0a3737e-fc5e-4c99-a049-1888cdf4739e",
   "metadata": {},
   "source": [
    "One where delete() should pass:"
   ]
  },
  {
   "cell_type": "code",
   "execution_count": 5,
   "id": "f4360b44-d8eb-450e-af73-877909429015",
   "metadata": {},
   "outputs": [
    {
     "name": "stdout",
     "output_type": "stream",
     "text": [
      "\n",
      "TEST :: delete() :: SHOULD EVALUATE TO 1\n",
      "There was 1 document(s) deleted.\n"
     ]
    }
   ],
   "source": [
    "print(\"\\nTEST :: delete() :: SHOULD EVALUATE TO 1\")\n",
    "deleted_count = CRUD.delete(\n",
    "    {'animal_id': 'BGJ0715'})\n",
    "print(f\"There was {deleted_count} document(s) deleted.\")"
   ]
  }
 ],
 "metadata": {
  "kernelspec": {
   "display_name": "Python 3 (ipykernel)",
   "language": "python",
   "name": "python3"
  },
  "language_info": {
   "codemirror_mode": {
    "name": "ipython",
    "version": 3
   },
   "file_extension": ".py",
   "mimetype": "text/x-python",
   "name": "python",
   "nbconvert_exporter": "python",
   "pygments_lexer": "ipython3",
   "version": "3.12.1"
  }
 },
 "nbformat": 4,
 "nbformat_minor": 5
}
